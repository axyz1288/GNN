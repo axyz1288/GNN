{
 "cells": [
  {
   "cell_type": "code",
   "execution_count": null,
   "metadata": {},
   "outputs": [],
   "source": [
    "import GCN\n",
    "import GAT\n",
    "import utils\n",
    "import torch.nn as nn\n",
    "from torch.optim import SGD, Adam\n",
    "from sklearn.metrics import accuracy_score\n",
    "import matplotlib.pyplot as plt\n",
    "\n",
    "NCLASS = 7\n",
    "NITER = 1000\n",
    "NTEST = 100\n",
    "LR = 0.001"
   ]
  },
  {
   "cell_type": "markdown",
   "metadata": {},
   "source": [
    "# Data"
   ]
  },
  {
   "cell_type": "code",
   "execution_count": null,
   "metadata": {
    "scrolled": true
   },
   "outputs": [],
   "source": [
    "adj, features, labels, idx_train, idx_val, idx_test = utils.load_data()"
   ]
  },
  {
   "cell_type": "code",
   "execution_count": null,
   "metadata": {
    "scrolled": true
   },
   "outputs": [],
   "source": [
    "plt.imshow(adj[:len(idx_train), :len(idx_train)].cpu(), cmap ='gray')"
   ]
  },
  {
   "cell_type": "markdown",
   "metadata": {},
   "source": [
    "# Model"
   ]
  },
  {
   "cell_type": "code",
   "execution_count": null,
   "metadata": {},
   "outputs": [],
   "source": [
    "# model = GCN.GCN(features.shape[0], features.shape[1], 1024, NCLASS, 0.3, False).cuda()\n",
    "model = GAT.GAT(features.shape[1], 16, adj.shape[0], NCLASS, 0.3).cuda()\n",
    "loss_fn = nn.CrossEntropyLoss()\n",
    "optim = Adam(model.parameters(), lr=LR)"
   ]
  },
  {
   "cell_type": "markdown",
   "metadata": {},
   "source": [
    "# Training"
   ]
  },
  {
   "cell_type": "code",
   "execution_count": null,
   "metadata": {},
   "outputs": [],
   "source": [
    "features = features.cuda()\n",
    "adj = adj.cuda()\n",
    "labels = labels.cuda()\n",
    "\n",
    "for i in range(NITER):\n",
    "    model.train()\n",
    "    optim.zero_grad()\n",
    "    outputs = model(features, adj)\n",
    "    predicts = outputs.argmax(dim=1)\n",
    "    loss = loss_fn(outputs[idx_train], labels[idx_train])\n",
    "    loss.backward()\n",
    "    optim.step()\n",
    "    \n",
    "    precision = accuracy_score(labels[idx_train].cpu(), predicts[idx_train].cpu())\n",
    "    print(\"[{:3d}/{:3d}]  loss: {:.4f}   precision: {:5.2%}\".format(i+1, NITER, loss, precision))\n",
    "    \n",
    "    if(i % NTEST == NTEST-1):\n",
    "        model.eval()\n",
    "        outputs = model(features, adj)\n",
    "        predicts = outputs.argmax(dim=1)\n",
    "        loss = loss_fn(outputs[idx_test], labels[idx_test])\n",
    "        precision = accuracy_score(labels[idx_test].cpu(), predicts[idx_test].cpu())\n",
    "        print(\"=============================================\")\n",
    "        print(\"[Testing]  loss: {:.4f}   precision: {:5.2%}\".format(loss, precision))\n",
    "        print(\"=============================================\")"
   ]
  }
 ],
 "metadata": {
  "kernelspec": {
   "display_name": "Python 3",
   "language": "python",
   "name": "python3"
  },
  "language_info": {
   "codemirror_mode": {
    "name": "ipython",
    "version": 3
   },
   "file_extension": ".py",
   "mimetype": "text/x-python",
   "name": "python",
   "nbconvert_exporter": "python",
   "pygments_lexer": "ipython3",
   "version": "3.6.9"
  }
 },
 "nbformat": 4,
 "nbformat_minor": 4
}